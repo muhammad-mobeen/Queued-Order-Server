{
  "nbformat": 4,
  "nbformat_minor": 0,
  "metadata": {
    "colab": {
      "name": "Order_Server.ipynb",
      "provenance": [],
      "authorship_tag": "ABX9TyOtm2Uyhdl3dHHj9Qh3RBif",
      "include_colab_link": true
    },
    "kernelspec": {
      "name": "python3",
      "display_name": "Python 3"
    },
    "language_info": {
      "name": "python"
    }
  },
  "cells": [
    {
      "cell_type": "markdown",
      "metadata": {
        "id": "view-in-github",
        "colab_type": "text"
      },
      "source": [
        "<a href=\"https://colab.research.google.com/github/muhammad-mobeen/Queued-Order-Server/blob/main/Order_Server.ipynb\" target=\"_parent\"><img src=\"https://colab.research.google.com/assets/colab-badge.svg\" alt=\"Open In Colab\"/></a>"
      ]
    },
    {
      "cell_type": "code",
      "metadata": {
        "id": "eBe1ezXyEULb"
      },
      "source": [
        "from collections import deque\n",
        "import threading\n",
        "import time"
      ],
      "execution_count": 31,
      "outputs": []
    },
    {
      "cell_type": "code",
      "metadata": {
        "id": "H4EKkljrIi3Q"
      },
      "source": [
        "class Queue:\n",
        "  def __init__(self):\n",
        "    self.esteem = deque()\n",
        "  def enqueue(self, val):\n",
        "    self.esteem.appendleft(val)\n",
        "  def dequeue(self):\n",
        "    if len(self.esteem) == 0:\n",
        "      print(\"Queue is empty\")\n",
        "      return\n",
        "    return self.esteem.pop()\n",
        "  def is_empty(self):\n",
        "    return len(self.esteem) == 0\n",
        "  def size(self):\n",
        "    return len(self.esteem)\n",
        "  def front(self):\n",
        "    return self.esteem[-1]\n",
        "\n",
        "\n",
        "q = Queue()"
      ],
      "execution_count": 32,
      "outputs": []
    },
    {
      "cell_type": "code",
      "metadata": {
        "id": "iOpskvVfIjes"
      },
      "source": [
        "def place_order(orders = []):\n",
        "  for x in orders:\n",
        "    q.enqueue(x)\n",
        "    print(\"Enqueued Order: \", x)\n",
        "    time.sleep(0.5)"
      ],
      "execution_count": 33,
      "outputs": []
    },
    {
      "cell_type": "code",
      "metadata": {
        "id": "XUCOIBIXIjnW"
      },
      "source": [
        "def serve_order(queue_size):\n",
        "  time.sleep(1)\n",
        "  print(\"After 1 second delay, now starting to serve!\")\n",
        "  for i in range(queue_size):\n",
        "    print(\"Now Serving Order: \", q.dequeue())\n",
        "    time.sleep(2)"
      ],
      "execution_count": 34,
      "outputs": []
    },
    {
      "cell_type": "code",
      "metadata": {
        "id": "2uNfEFyYIjwy"
      },
      "source": [
        "if __name__ == '__main__':\n",
        "  order = [\"pizza\", \"samosa\", \"pasta\", \"biryani\", \"burger\"]\n",
        "  t1 = threading.Thread(target=place_order, args=(order,))\n",
        "  t2 = threading.Thread(target=serve_order, args=(len(order),))\n",
        "\n",
        "  t1.start()\n",
        "  t2.start()\n",
        "\n",
        "  t2.join()\n",
        "  \n",
        "  print(\"All Orders Served Successfully!\")"
      ],
      "execution_count": null,
      "outputs": []
    }
  ]
}